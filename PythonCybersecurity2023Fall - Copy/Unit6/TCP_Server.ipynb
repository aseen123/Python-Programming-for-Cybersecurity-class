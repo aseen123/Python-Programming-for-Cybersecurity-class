{
 "cells": [
  {
   "cell_type": "code",
   "execution_count": null,
   "id": "96149ed9-d90c-4f66-a574-7b0d7741969e",
   "metadata": {
    "tags": []
   },
   "outputs": [],
   "source": [
    "import socket\n",
    "import time"
   ]
  },
  {
   "cell_type": "code",
   "execution_count": null,
   "id": "9fac8f76-3f3a-48ac-9b8b-79dada15ca5e",
   "metadata": {
    "tags": []
   },
   "outputs": [],
   "source": [
    "ip_address=\"127.0.0.1\"\n",
    "port_number = 3000"
   ]
  },
  {
   "cell_type": "code",
   "execution_count": null,
   "id": "f9bfcff9-db65-4357-b498-c06ad6b55400",
   "metadata": {
    "tags": []
   },
   "outputs": [],
   "source": [
    "myServer= socket.socket(socket.AF_INET, socket.SOCK_STREAM)"
   ]
  },
  {
   "cell_type": "code",
   "execution_count": null,
   "id": "8bae33d5-6291-489d-8484-9b279f3d9d50",
   "metadata": {
    "tags": []
   },
   "outputs": [],
   "source": [
    "server_address=(ip_address, port_number)"
   ]
  },
  {
   "cell_type": "code",
   "execution_count": null,
   "id": "53588cca-d0e7-464d-bde0-9a190f37eebc",
   "metadata": {
    "tags": []
   },
   "outputs": [],
   "source": [
    "myServer.bind(server_address)"
   ]
  },
  {
   "cell_type": "code",
   "execution_count": null,
   "id": "acf96093-9bb7-4264-9fbb-83cb187a3ee4",
   "metadata": {
    "tags": []
   },
   "outputs": [],
   "source": [
    "myServer.listen(1) # only one client accepted"
   ]
  },
  {
   "cell_type": "code",
   "execution_count": null,
   "id": "09743221-0448-415d-9da1-0c9a8d50f13c",
   "metadata": {
    "tags": []
   },
   "outputs": [],
   "source": [
    "print(\"Listening...\")"
   ]
  },
  {
   "cell_type": "code",
   "execution_count": null,
   "id": "683b8b4a-db46-40e2-9bec-875c0e01e3af",
   "metadata": {
    "tags": []
   },
   "outputs": [],
   "source": [
    "while True:\n",
    "    print(\"waiting for client connection... \")\n",
    "    client, client_address = myServer.accept()  # blocks til receives a connection from client\n",
    "    \n",
    "    try:\n",
    "        print(\"Connection established...\")\n",
    "        \n",
    "        while True:\n",
    "            data = client.recv(1024)\n",
    "            text_data = data.decode(\"utf-8\")\n",
    "            data = ('You sent >>'+text_data).encode()\n",
    "            print(\"Data received...\", text_data)\n",
    "            if text_data.strip() != 'quit':\n",
    "                print(\"Sending Echo back to client\", data)\n",
    "                client.sendall(data)\n",
    "            else:\n",
    "                print(\"Quiting... \")\n",
    "                break\n",
    "    finally:\n",
    "        client.close()"
   ]
  },
  {
   "cell_type": "markdown",
   "id": "2f8df52a-73d9-49e0-9ce5-60037e7c3d91",
   "metadata": {},
   "source": [
    "### "
   ]
  }
 ],
 "metadata": {
  "kernelspec": {
   "display_name": "Python 3 (ipykernel)",
   "language": "python",
   "name": "python3"
  },
  "language_info": {
   "codemirror_mode": {
    "name": "ipython",
    "version": 3
   },
   "file_extension": ".py",
   "mimetype": "text/x-python",
   "name": "python",
   "nbconvert_exporter": "python",
   "pygments_lexer": "ipython3",
   "version": "3.11.4"
  }
 },
 "nbformat": 4,
 "nbformat_minor": 5
}
