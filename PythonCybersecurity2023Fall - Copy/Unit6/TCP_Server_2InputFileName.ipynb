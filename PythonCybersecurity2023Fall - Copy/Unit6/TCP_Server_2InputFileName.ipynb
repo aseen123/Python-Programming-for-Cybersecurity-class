{
 "cells": [
  {
   "cell_type": "code",
   "execution_count": 1,
   "id": "96149ed9-d90c-4f66-a574-7b0d7741969e",
   "metadata": {
    "tags": []
   },
   "outputs": [],
   "source": [
    "import socket\n",
    "import os"
   ]
  },
  {
   "cell_type": "code",
   "execution_count": 2,
   "id": "9fac8f76-3f3a-48ac-9b8b-79dada15ca5e",
   "metadata": {
    "tags": []
   },
   "outputs": [],
   "source": [
    "ip_address=\"127.0.0.1\"\n",
    "port_number = 3000"
   ]
  },
  {
   "cell_type": "code",
   "execution_count": 3,
   "id": "f9bfcff9-db65-4357-b498-c06ad6b55400",
   "metadata": {
    "tags": []
   },
   "outputs": [],
   "source": [
    "myServer= socket.socket(socket.AF_INET, socket.SOCK_STREAM)"
   ]
  },
  {
   "cell_type": "code",
   "execution_count": 4,
   "id": "8bae33d5-6291-489d-8484-9b279f3d9d50",
   "metadata": {
    "tags": []
   },
   "outputs": [],
   "source": [
    "server_address=(ip_address, port_number)"
   ]
  },
  {
   "cell_type": "code",
   "execution_count": 5,
   "id": "53588cca-d0e7-464d-bde0-9a190f37eebc",
   "metadata": {
    "tags": []
   },
   "outputs": [],
   "source": [
    "myServer.bind(server_address)"
   ]
  },
  {
   "cell_type": "code",
   "execution_count": 6,
   "id": "acf96093-9bb7-4264-9fbb-83cb187a3ee4",
   "metadata": {
    "tags": []
   },
   "outputs": [],
   "source": [
    "myServer.listen(1) # only one client accepted"
   ]
  },
  {
   "cell_type": "code",
   "execution_count": 7,
   "id": "09743221-0448-415d-9da1-0c9a8d50f13c",
   "metadata": {
    "tags": []
   },
   "outputs": [
    {
     "name": "stdout",
     "output_type": "stream",
     "text": [
      "Listening...\n"
     ]
    }
   ],
   "source": [
    "print(\"Listening...\")"
   ]
  },
  {
   "cell_type": "code",
   "execution_count": 8,
   "id": "f40c1cef-0b7c-4ed4-b3c5-cbdc34248761",
   "metadata": {},
   "outputs": [],
   "source": [
    "filename = \"C:/Users/eniko/myTest.txt\"\n"
   ]
  },
  {
   "cell_type": "code",
   "execution_count": 9,
   "id": "683b8b4a-db46-40e2-9bec-875c0e01e3af",
   "metadata": {
    "tags": []
   },
   "outputs": [
    {
     "name": "stdout",
     "output_type": "stream",
     "text": [
      "waiting for client connection... \n",
      "Connection established...\n",
      "Hello World!\n",
      "Are you joking?\n",
      "Good by now!\n",
      "\n",
      "socket closed\n",
      "client closing...\n"
     ]
    },
    {
     "data": {
      "text/plain": [
       "'\\n   while True:\\n    print(\"waiting for client connection... \")\\n    client, client_address = myServer.accept()  # blocks til receives a connection from client\\n\\n    lines = myFile.read(1024)\\n    while (lines):\\n        client.send(lines)\\n        lines = myFile.read(1024)\\n    client.shutdown(socket.SHUT_WR)\\n    data =client.recv(1024) # Feedback: would like the receive feedback from the server.\\n    print(data)\\n'"
      ]
     },
     "execution_count": 9,
     "metadata": {},
     "output_type": "execute_result"
    }
   ],
   "source": [
    "\n",
    "print(\"waiting for client connection... \")\n",
    "client, client_address = myServer.accept()  # blocks til receives a connection from client\n",
    "\n",
    "if not os.path.isfile(filename):\n",
    "    print(\"File does not exist...\")\n",
    "    # break\n",
    "else:\n",
    "        print(\"Connection established...\")\n",
    "\n",
    "        #while True: \n",
    "\n",
    "            ## filename = input('Input filename you want to send: ') \n",
    "        try: \n",
    "           # Reading file and sending data to server \n",
    "            myFile = open(filename, \"r\") \n",
    "\n",
    "            data = myFile.read() \n",
    "            print( data) # prints file \n",
    "            if not data:\n",
    "                # File is closed after data is sent \n",
    "                myFile.close()  \n",
    "            while data: \n",
    "                myServer.send(str(data).encode()) \n",
    "                data = myFile.read() \n",
    "\n",
    "            #client.shutdown(socket.SHUT_WR)\n",
    "        except:\n",
    "            print(\"socket closed\")\n",
    "        finally:\n",
    "            print(\"client closing...\")\n",
    "            client.close()\n",
    "\n",
    "\n",
    "'''\n",
    "   while True:\n",
    "    print(\"waiting for client connection... \")\n",
    "    client, client_address = myServer.accept()  # blocks til receives a connection from client\n",
    "\n",
    "    lines = myFile.read(1024)\n",
    "    while (lines):\n",
    "        client.send(lines)\n",
    "        lines = myFile.read(1024)\n",
    "    client.shutdown(socket.SHUT_WR)\n",
    "    data =client.recv(1024) # Feedback: would like the receive feedback from the server.\n",
    "    print(data)\n",
    "'''\n",
    "    "
   ]
  },
  {
   "cell_type": "code",
   "execution_count": null,
   "id": "fd67bcc5-27a3-483c-a72a-2b21ceb85b57",
   "metadata": {},
   "outputs": [],
   "source": []
  }
 ],
 "metadata": {
  "kernelspec": {
   "display_name": "Python 3 (ipykernel)",
   "language": "python",
   "name": "python3"
  },
  "language_info": {
   "codemirror_mode": {
    "name": "ipython",
    "version": 3
   },
   "file_extension": ".py",
   "mimetype": "text/x-python",
   "name": "python",
   "nbconvert_exporter": "python",
   "pygments_lexer": "ipython3",
   "version": "3.11.4"
  }
 },
 "nbformat": 4,
 "nbformat_minor": 5
}
