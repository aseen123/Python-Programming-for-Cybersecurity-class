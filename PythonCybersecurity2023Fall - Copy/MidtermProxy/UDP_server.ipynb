{
 "cells": [
  {
   "cell_type": "code",
   "execution_count": null,
   "id": "6c9d59cb",
   "metadata": {},
   "outputs": [],
   "source": [
    "import socket"
   ]
  },
  {
   "cell_type": "code",
   "execution_count": null,
   "id": "cfbb918f",
   "metadata": {},
   "outputs": [],
   "source": [
    "ip_address = \"127.0.0.1\"\n",
    "port_number=4000"
   ]
  },
  {
   "cell_type": "code",
   "execution_count": null,
   "id": "fbc064fd",
   "metadata": {},
   "outputs": [],
   "source": [
    "myServer= socket.socket(socket.AF_INET, socket.SOCK_DGRAM)"
   ]
  },
  {
   "cell_type": "code",
   "execution_count": null,
   "id": "3bbf2801",
   "metadata": {},
   "outputs": [],
   "source": [
    "server_address =(ip_address, port_number) "
   ]
  },
  {
   "cell_type": "code",
   "execution_count": null,
   "id": "71e1cb57",
   "metadata": {},
   "outputs": [],
   "source": [
    "myServer.bind(server_address)"
   ]
  },
  {
   "cell_type": "code",
   "execution_count": null,
   "id": "bbb01427",
   "metadata": {},
   "outputs": [],
   "source": [
    "while True:\n",
    "    data,client_address= myServer.recvfrom(1024)\n",
    "    text_data = data.decode(\"utf-8\")\n",
    "    data = ('You sent >>'+text_data).encode()\n",
    "    print(\"Data received...\", text_data)\n",
    "    myServer.sendto(data,client_address)\n",
    "    print(\"Response sent...\")"
   ]
  },
  {
   "cell_type": "code",
   "execution_count": null,
   "id": "216d34af",
   "metadata": {},
   "outputs": [],
   "source": []
  },
  {
   "cell_type": "code",
   "execution_count": null,
   "id": "c3809df6",
   "metadata": {},
   "outputs": [],
   "source": []
  }
 ],
 "metadata": {
  "kernelspec": {
   "display_name": "Python 3 (ipykernel)",
   "language": "python",
   "name": "python3"
  },
  "language_info": {
   "codemirror_mode": {
    "name": "ipython",
    "version": 3
   },
   "file_extension": ".py",
   "mimetype": "text/x-python",
   "name": "python",
   "nbconvert_exporter": "python",
   "pygments_lexer": "ipython3",
   "version": "3.11.4"
  }
 },
 "nbformat": 4,
 "nbformat_minor": 5
}
