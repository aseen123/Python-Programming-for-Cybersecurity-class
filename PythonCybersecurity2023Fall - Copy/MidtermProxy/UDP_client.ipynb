{
 "cells": [
  {
   "cell_type": "code",
   "execution_count": 1,
   "id": "96149ed9-d90c-4f66-a574-7b0d7741969e",
   "metadata": {
    "tags": []
   },
   "outputs": [],
   "source": [
    "import socket"
   ]
  },
  {
   "cell_type": "code",
   "execution_count": 2,
   "id": "9fac8f76-3f3a-48ac-9b8b-79dada15ca5e",
   "metadata": {
    "tags": []
   },
   "outputs": [
    {
     "name": "stdout",
     "output_type": "stream",
     "text": [
      "Enter IP address: 127.0.0.1\n",
      "Enter port number: 3000\n"
     ]
    }
   ],
   "source": [
    "destination_host=input(\"Enter IP address: \")   ##ip_address=\"127.0.0.1\"\n",
    "destination_port=int(input(\"Enter port number: \")) ##port_number = 3000"
   ]
  },
  {
   "cell_type": "code",
   "execution_count": 3,
   "id": "f9bfcff9-db65-4357-b498-c06ad6b55400",
   "metadata": {
    "tags": []
   },
   "outputs": [],
   "source": [
    "client= socket.socket(socket.AF_INET, socket.SOCK_DGRAM)"
   ]
  },
  {
   "cell_type": "code",
   "execution_count": 4,
   "id": "8bae33d5-6291-489d-8484-9b279f3d9d50",
   "metadata": {
    "tags": []
   },
   "outputs": [],
   "source": [
    "socket_address=(destination_host, destination_port)"
   ]
  },
  {
   "cell_type": "code",
   "execution_count": 5,
   "id": "683b8b4a-db46-40e2-9bec-875c0e01e3af",
   "metadata": {
    "tags": []
   },
   "outputs": [
    {
     "name": "stdout",
     "output_type": "stream",
     "text": [
      "Enter your message: hello\n",
      "\n",
      "You sent >>hello\n",
      "\n",
      "Enter your message: quit\n",
      "\n",
      "You sent >>quit\n",
      "\n",
      "Conversation ended...\n"
     ]
    }
   ],
   "source": [
    "while True:\n",
    "    request= input(\"Enter your message: \")  ## client.recv(1024)\n",
    "    request+= \"\\r\\n\"\n",
    "    client.sendto( request.encode(), socket_address)\n",
    "    response,server_address= client.recvfrom(1024)\n",
    "    print(\"\\r\\n\"+response.decode(\"utf-8\"))\n",
    "    if request.strip()== 'quit':\n",
    "        break\n",
    "print(\"Conversation ended...\")\n"
   ]
  },
  {
   "cell_type": "markdown",
   "id": "2f8df52a-73d9-49e0-9ce5-60037e7c3d91",
   "metadata": {},
   "source": [
    "### "
   ]
  }
 ],
 "metadata": {
  "kernelspec": {
   "display_name": "Python 3 (ipykernel)",
   "language": "python",
   "name": "python3"
  },
  "language_info": {
   "codemirror_mode": {
    "name": "ipython",
    "version": 3
   },
   "file_extension": ".py",
   "mimetype": "text/x-python",
   "name": "python",
   "nbconvert_exporter": "python",
   "pygments_lexer": "ipython3",
   "version": "3.11.4"
  }
 },
 "nbformat": 4,
 "nbformat_minor": 5
}
