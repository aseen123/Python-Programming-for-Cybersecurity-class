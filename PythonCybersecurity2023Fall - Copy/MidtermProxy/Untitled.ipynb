{
 "cells": [
  {
   "cell_type": "code",
   "execution_count": null,
   "id": "f2589d25",
   "metadata": {},
   "outputs": [],
   "source": [
    "import socket\n",
    "import sys\n",
    "import datetime"
   ]
  },
  {
   "cell_type": "code",
   "execution_count": null,
   "id": "fe5868a5",
   "metadata": {
    "scrolled": false
   },
   "outputs": [],
   "source": [
    "remoteServer= input(\"Enter a host name: \")   ## \"34.160.164.47\", \"192.168.1.138\", \"8.8.8.8\", \"8.8.4.4\"\n",
    "remoteServerIP= socket.gethostbyname( remoteServer )\n"
   ]
  },
  {
   "cell_type": "code",
   "execution_count": null,
   "id": "1696876d",
   "metadata": {},
   "outputs": [],
   "source": [
    "print( \" Please wait while scanning remote host server: \", remoteServerIP)\n",
    "\n",
    "## test the time spent doing the scan - just a bit of extra besides the requierement\n",
    "t1 = datetime.now()"
   ]
  },
  {
   "cell_type": "code",
   "execution_count": null,
   "id": "1df19334",
   "metadata": {
    "scrolled": true
   },
   "outputs": [],
   "source": [
    "#use a range of ports between 0, 65535)\n",
    "try: \n",
    "    for port in range(0, 65535):\n",
    "        mySocket = socket.socket(socket.AF_INET, socket.SOCK_STREAM)  \n",
    "        result = mySocket.connect_ex(( remoteServerIP, port ))\n",
    "        \n",
    "        ## if result==0, automatically  will be sent an SYN request, and receive a SYN/ACK response.\n",
    "        ## If that happens, that means the port is open to the public.\n",
    "        \n",
    "        if result == 0:  ## returns 0 if succesful, socket errors: 10060- timeout connection failed\n",
    "            print(\"Port {}    Open\").format(port)\n",
    "        mySocket.close()\n",
    "        \n",
    "except KeyboardInterrupt:\n",
    "        print(\"You pressed ^C\")\n",
    "        sys.exit()\n",
    "        \n",
    "except socket.gaierror:\n",
    "        print(\"Host name could not be resolved, Exiting\")\n",
    "        sys.exit()\n",
    "\n",
    "\n",
    "    \n",
    "t2 = datetime.now()   \n",
    "\n"
   ]
  },
  {
   "cell_type": "code",
   "execution_count": null,
   "id": "3129a45e",
   "metadata": {},
   "outputs": [],
   "source": [
    "total = t2 - t1\n",
    "print(\" Scanning completed in: \", total)"
   ]
  },
  {
   "cell_type": "code",
   "execution_count": null,
   "id": "7c807d00",
   "metadata": {},
   "outputs": [],
   "source": []
  }
 ],
 "metadata": {
  "kernelspec": {
   "display_name": "Python 3 (ipykernel)",
   "language": "python",
   "name": "python3"
  },
  "language_info": {
   "codemirror_mode": {
    "name": "ipython",
    "version": 3
   },
   "file_extension": ".py",
   "mimetype": "text/x-python",
   "name": "python",
   "nbconvert_exporter": "python",
   "pygments_lexer": "ipython3",
   "version": "3.11.5"
  }
 },
 "nbformat": 4,
 "nbformat_minor": 5
}
