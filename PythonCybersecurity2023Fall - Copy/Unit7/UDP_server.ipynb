{
 "cells": [
  {
   "cell_type": "code",
   "execution_count": 1,
   "id": "6c9d59cb",
   "metadata": {},
   "outputs": [],
   "source": [
    "import socket"
   ]
  },
  {
   "cell_type": "code",
   "execution_count": 2,
   "id": "cfbb918f",
   "metadata": {},
   "outputs": [],
   "source": [
    "ip_address = \"127.0.0.1\"\n",
    "port_number=4000"
   ]
  },
  {
   "cell_type": "code",
   "execution_count": 3,
   "id": "fbc064fd",
   "metadata": {},
   "outputs": [],
   "source": [
    "myServer= socket.socket(socket.AF_INET, socket.SOCK_DGRAM)"
   ]
  },
  {
   "cell_type": "code",
   "execution_count": 4,
   "id": "3bbf2801",
   "metadata": {},
   "outputs": [],
   "source": [
    "server_address =(ip_address, port_number) "
   ]
  },
  {
   "cell_type": "code",
   "execution_count": 5,
   "id": "71e1cb57",
   "metadata": {},
   "outputs": [],
   "source": [
    "myServer.bind(server_address)"
   ]
  },
  {
   "cell_type": "code",
   "execution_count": null,
   "id": "bbb01427",
   "metadata": {},
   "outputs": [
    {
     "name": "stdout",
     "output_type": "stream",
     "text": [
      "Data received... Andre\n",
      "\n",
      "Response sent...\n",
      "Data received... hey\n",
      "\n",
      "Response sent...\n",
      "Data received... buy it\n",
      "\n",
      "Response sent...\n"
     ]
    }
   ],
   "source": [
    "while True:\n",
    "    data,client_address= myServer.recvfrom(1024)\n",
    "    text_data = data.decode(\"utf-8\")\n",
    "    data = ('You sent >>'+text_data).encode()\n",
    "    print(\"Data received...\", text_data)\n",
    "    myServer.sendto(data,client_address)\n",
    "    print(\"Response sent...\")"
   ]
  }
 ],
 "metadata": {
  "kernelspec": {
   "display_name": "Python 3 (ipykernel)",
   "language": "python",
   "name": "python3"
  },
  "language_info": {
   "codemirror_mode": {
    "name": "ipython",
    "version": 3
   },
   "file_extension": ".py",
   "mimetype": "text/x-python",
   "name": "python",
   "nbconvert_exporter": "python",
   "pygments_lexer": "ipython3",
   "version": "3.11.4"
  }
 },
 "nbformat": 4,
 "nbformat_minor": 5
}
