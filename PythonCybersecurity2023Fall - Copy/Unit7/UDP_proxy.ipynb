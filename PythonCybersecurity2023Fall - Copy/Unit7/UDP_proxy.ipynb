{
 "cells": [
  {
   "cell_type": "code",
   "execution_count": null,
   "id": "f8f47e03",
   "metadata": {},
   "outputs": [],
   "source": [
    "import socket"
   ]
  },
  {
   "cell_type": "code",
   "execution_count": null,
   "id": "e6593f58",
   "metadata": {},
   "outputs": [],
   "source": [
    "proxy_address= (\"127.0.0.1\",3000)\n",
    "forwarding_address = (\"127.0.0.1\", 4000)"
   ]
  },
  {
   "cell_type": "code",
   "execution_count": null,
   "id": "0866ba6c",
   "metadata": {},
   "outputs": [],
   "source": [
    "proxy= socket.socket(socket.AF_INET, socket.SOCK_DGRAM)  ## UDP\n",
    "##proxy= socket.socket(socket.AF_INET, socket.SOCK_STREAM)    ## TCP"
   ]
  },
  {
   "cell_type": "code",
   "execution_count": null,
   "id": "104408a4",
   "metadata": {},
   "outputs": [],
   "source": [
    "proxy.bind(proxy_address)"
   ]
  },
  {
   "cell_type": "code",
   "execution_count": null,
   "id": "38f7c18a",
   "metadata": {},
   "outputs": [],
   "source": [
    "while True:\n",
    "    client_data,client_address= proxy.recvfrom(1024)\n",
    "    print(\"CLIENT_REQUEST: \"+client_data.decode(\"utf-8\") )\n",
    "    \n",
    "    proxy.sendto(client_data,forwarding_address)\n",
    "    response_data, server_address= proxy.recvfrom(1024)\n",
    "    print(\"SERVER_RESPONSE: \"+response_data.decode(\"utf-8\") )\n",
    "    \n",
    "    proxy.sendto(response_data, client_address)\n"
   ]
  },
  {
   "cell_type": "code",
   "execution_count": null,
   "id": "82a1a39a",
   "metadata": {},
   "outputs": [],
   "source": []
  }
 ],
 "metadata": {
  "kernelspec": {
   "display_name": "Python 3 (ipykernel)",
   "language": "python",
   "name": "python3"
  },
  "language_info": {
   "codemirror_mode": {
    "name": "ipython",
    "version": 3
   },
   "file_extension": ".py",
   "mimetype": "text/x-python",
   "name": "python",
   "nbconvert_exporter": "python",
   "pygments_lexer": "ipython3",
   "version": "3.11.4"
  }
 },
 "nbformat": 4,
 "nbformat_minor": 5
}
