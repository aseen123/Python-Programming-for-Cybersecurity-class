{
 "cells": [
  {
   "cell_type": "code",
   "execution_count": 1,
   "id": "9f2fb4ed",
   "metadata": {},
   "outputs": [
    {
     "name": "stderr",
     "output_type": "stream",
     "text": [
      "C:\\Users\\eniko\\anaconda3\\Lib\\site-packages\\scapy\\layers\\ipsec.py:469: CryptographyDeprecationWarning: Blowfish has been deprecated\n",
      "  cipher=algorithms.Blowfish,\n",
      "C:\\Users\\eniko\\anaconda3\\Lib\\site-packages\\scapy\\layers\\ipsec.py:483: CryptographyDeprecationWarning: CAST5 has been deprecated\n",
      "  cipher=algorithms.CAST5,\n"
     ]
    }
   ],
   "source": [
    "from scapy.all import *"
   ]
  },
  {
   "cell_type": "code",
   "execution_count": 2,
   "id": "53f2773e",
   "metadata": {},
   "outputs": [],
   "source": [
    "def scanAHostPorts(ip_address, port_number):\n",
    "    \n",
    "    ## assemble layer TCP\n",
    "    ip_layer=IP(dst=ip_address)\n",
    "    \n",
    "    ##assemle layer IP\n",
    "    tcp_layer=TCP(dport=port_number, flags='S')\n",
    "    \n",
    "    ## build packet of TCP and IP layers\n",
    "    myPacket = ip_layer/tcp_layer\n",
    "    \n",
    "    ## send a packet and listen for an answer\n",
    "    response= sr1( myPacket, verbose=0, timeout=1 )\n",
    "    \n",
    "    if response is None:\n",
    "        return False\n",
    "    \n",
    "    ## if packet has a TCP, and an SA- SYN/ACK flag, return true\n",
    "    if response.haslayer(TCP):\n",
    "        if response[TCP].flags=='SA':\n",
    "            return True  ## port is Open\n",
    "        else:\n",
    "            return False ## Port is not Open\n",
    "    else:\n",
    "        return False\n",
    "            \n",
    "    print( response.show())"
   ]
  },
  {
   "cell_type": "code",
   "execution_count": 3,
   "id": "2762dece",
   "metadata": {},
   "outputs": [
    {
     "name": "stdout",
     "output_type": "stream",
     "text": [
      "Enter a host name: 52.53.232.80\n"
     ]
    }
   ],
   "source": [
    "remoteHostIP= input(\"Enter a host name: \")   ## \"52.53.232.80\"- www.usman.cloud\n"
   ]
  },
  {
   "cell_type": "code",
   "execution_count": 4,
   "id": "394cf908",
   "metadata": {},
   "outputs": [
    {
     "name": "stdout",
     "output_type": "stream",
     "text": [
      "Port  22    is Open!!\n",
      "Port  80    is Open!!\n"
     ]
    }
   ],
   "source": [
    "## scan ports for the remote host in a given range: 20, 120\n",
    "portRange = range(20,120)\n",
    "for port in portRange:\n",
    "    if scanAHostPorts(remoteHostIP, port):\n",
    "        print(\"Port \", port, \"   is Open!!\")\n",
    "    "
   ]
  }
 ],
 "metadata": {
  "kernelspec": {
   "display_name": "Python 3 (ipykernel)",
   "language": "python",
   "name": "python3"
  },
  "language_info": {
   "codemirror_mode": {
    "name": "ipython",
    "version": 3
   },
   "file_extension": ".py",
   "mimetype": "text/x-python",
   "name": "python",
   "nbconvert_exporter": "python",
   "pygments_lexer": "ipython3",
   "version": "3.11.5"
  }
 },
 "nbformat": 4,
 "nbformat_minor": 5
}
