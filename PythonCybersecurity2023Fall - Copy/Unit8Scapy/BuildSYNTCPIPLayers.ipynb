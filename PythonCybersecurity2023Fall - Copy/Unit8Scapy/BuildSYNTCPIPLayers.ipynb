{
 "cells": [
  {
   "cell_type": "code",
   "execution_count": 1,
   "id": "15f4cccd",
   "metadata": {},
   "outputs": [
    {
     "name": "stderr",
     "output_type": "stream",
     "text": [
      "C:\\Users\\eniko\\anaconda3\\Lib\\site-packages\\scapy\\layers\\ipsec.py:469: CryptographyDeprecationWarning: Blowfish has been deprecated\n",
      "  cipher=algorithms.Blowfish,\n",
      "C:\\Users\\eniko\\anaconda3\\Lib\\site-packages\\scapy\\layers\\ipsec.py:483: CryptographyDeprecationWarning: CAST5 has been deprecated\n",
      "  cipher=algorithms.CAST5,\n"
     ]
    }
   ],
   "source": [
    "from scapy.all import *"
   ]
  },
  {
   "cell_type": "code",
   "execution_count": 2,
   "id": "25044078",
   "metadata": {},
   "outputs": [],
   "source": [
    "target_ip=\"52.53.232.80\"\n",
    "target_port = 80"
   ]
  },
  {
   "cell_type": "code",
   "execution_count": 3,
   "id": "d7451674",
   "metadata": {},
   "outputs": [],
   "source": [
    "ip_layer=IP(dst=target_ip)"
   ]
  },
  {
   "cell_type": "code",
   "execution_count": 5,
   "id": "ec1d1fb3",
   "metadata": {},
   "outputs": [],
   "source": [
    "tcp_layer=TCP(dport=target_port, flags='S')"
   ]
  },
  {
   "cell_type": "code",
   "execution_count": 6,
   "id": "3b8f4ffe",
   "metadata": {},
   "outputs": [],
   "source": [
    "myPacket = ip_layer/tcp_layer"
   ]
  },
  {
   "cell_type": "code",
   "execution_count": 12,
   "id": "f2702533",
   "metadata": {},
   "outputs": [
    {
     "name": "stdout",
     "output_type": "stream",
     "text": [
      "Begin emission:\n",
      "Finished sending 1 packets.\n",
      "\n",
      "Received 2 packets, got 1 answers, remaining 0 packets\n"
     ]
    }
   ],
   "source": [
    "response= sr1( myPacket ) ##, verbose=2)"
   ]
  },
  {
   "cell_type": "code",
   "execution_count": 8,
   "id": "202af91c",
   "metadata": {},
   "outputs": [
    {
     "name": "stdout",
     "output_type": "stream",
     "text": [
      "###[ IP ]### \n",
      "  version   = 4\n",
      "  ihl       = 5\n",
      "  tos       = 0x0\n",
      "  len       = 44\n",
      "  id        = 0\n",
      "  flags     = DF\n",
      "  frag      = 0\n",
      "  ttl       = 44\n",
      "  proto     = tcp\n",
      "  chksum    = 0x7014\n",
      "  src       = 52.53.232.80\n",
      "  dst       = 192.168.1.138\n",
      "  \\options   \\\n",
      "###[ TCP ]### \n",
      "     sport     = http\n",
      "     dport     = ftp_data\n",
      "     seq       = 2994242796\n",
      "     ack       = 1\n",
      "     dataofs   = 6\n",
      "     reserved  = 0\n",
      "     flags     = SA\n",
      "     window    = 62727\n",
      "     chksum    = 0x8c94\n",
      "     urgptr    = 0\n",
      "     options   = [('MSS', 1452)]\n",
      "\n"
     ]
    }
   ],
   "source": [
    "response.show()\n"
   ]
  },
  {
   "cell_type": "code",
   "execution_count": null,
   "id": "85189ff8",
   "metadata": {},
   "outputs": [],
   "source": []
  }
 ],
 "metadata": {
  "kernelspec": {
   "display_name": "Python 3 (ipykernel)",
   "language": "python",
   "name": "python3"
  },
  "language_info": {
   "codemirror_mode": {
    "name": "ipython",
    "version": 3
   },
   "file_extension": ".py",
   "mimetype": "text/x-python",
   "name": "python",
   "nbconvert_exporter": "python",
   "pygments_lexer": "ipython3",
   "version": "3.11.5"
  }
 },
 "nbformat": 4,
 "nbformat_minor": 5
}
