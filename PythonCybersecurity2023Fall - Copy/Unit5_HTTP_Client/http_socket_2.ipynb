{
 "cells": [
  {
   "cell_type": "code",
   "execution_count": null,
   "id": "60869ab1",
   "metadata": {},
   "outputs": [],
   "source": [
    "import socket"
   ]
  },
  {
   "cell_type": "code",
   "execution_count": null,
   "id": "b18c1f06",
   "metadata": {},
   "outputs": [],
   "source": [
    "web_address= input(\"Please input a web address: \")   ## http://www.google.com/helloworld.html\n",
    "protocol, x = web_address.split(\"/\", 1)\n",
    "host_name, resource = x[1:].split(\"/\", 1)  \n",
    "\n",
    "## print( \"Protocol: \"+ protocol[:-1]+ \", Host_name: \"+ host_name+ \", Resource: /\"+ resource, \"\\n\")\n",
    "port_number=80"
   ]
  },
  {
   "cell_type": "code",
   "execution_count": null,
   "id": "d415aae0",
   "metadata": {},
   "outputs": [],
   "source": [
    "myHTTPClient=socket.socket(socket.AF_INET, socket.SOCK_STREAM)"
   ]
  },
  {
   "cell_type": "markdown",
   "id": "3cd7dad5",
   "metadata": {},
   "source": [
    "##Making DNS request and connecting to server\n",
    "\n"
   ]
  },
  {
   "cell_type": "code",
   "execution_count": null,
   "id": "ed41a988",
   "metadata": {},
   "outputs": [],
   "source": [
    "ip_address=socket.gethostbyname(host_name)"
   ]
  },
  {
   "cell_type": "code",
   "execution_count": null,
   "id": "1800b41b",
   "metadata": {},
   "outputs": [],
   "source": [
    "ip_address=socket.gethostbyname(host_name)\n",
    "print(ip_address)"
   ]
  },
  {
   "cell_type": "code",
   "execution_count": null,
   "id": "ef5067d1",
   "metadata": {},
   "outputs": [],
   "source": [
    "request= 'GET /' + resource + '\\r\\n'   ##'GET /helloworld.html\\r\\n'\n"
   ]
  },
  {
   "cell_type": "code",
   "execution_count": null,
   "id": "838a5405",
   "metadata": {},
   "outputs": [],
   "source": [
    "myHTTPClient.connect((ip_address,port_number))"
   ]
  },
  {
   "cell_type": "code",
   "execution_count": null,
   "id": "2da84e7d",
   "metadata": {},
   "outputs": [],
   "source": [
    "myHTTPClient.sendall(request.encode())"
   ]
  },
  {
   "cell_type": "code",
   "execution_count": null,
   "id": "60465224",
   "metadata": {},
   "outputs": [],
   "source": [
    "response=b''\n",
    "buffer_size=1024\n",
    "\n",
    "while True:\n",
    "    cup_of_data=myHTTPClient.recv(buffer_size)\n",
    "    if not cup_of_data:\n",
    "        break\n",
    "    response=response+cup_of_data\n",
    "    "
   ]
  },
  {
   "cell_type": "code",
   "execution_count": null,
   "id": "1baae229",
   "metadata": {},
   "outputs": [],
   "source": [
    "print(response.decode('utf-8'))"
   ]
  },
  {
   "cell_type": "code",
   "execution_count": null,
   "id": "c8c2bb05-01a3-4bbd-9f14-db59f6412ccb",
   "metadata": {
    "scrolled": false,
    "tags": []
   },
   "outputs": [],
   "source": [
    "# HTTP Response Codes\n",
    "http_codes = [200, 301, 302, 400, 403, 404, 500, 503]\n",
    "description = \"\"\n",
    "\n",
    "http_error_line = response.decode('utf-8').split('\\n')[0] ##, 1)[1]\n",
    "http_code = [int(n) for n in http_error_line.split() if n.isdigit()]\n"
   ]
  },
  {
   "cell_type": "code",
   "execution_count": null,
   "id": "7b5dfbe7-0bc2-4403-afc6-bf5b1d43854f",
   "metadata": {
    "tags": []
   },
   "outputs": [],
   "source": [
    "if not http_code:\n",
    "    print(\"All good...\")\n",
    "else:\n",
    "    code = http_code[0]\n",
    "\n",
    "    if code in http_codes:    \n",
    "      if code == 200:\n",
    "        description = \"\" ## \"OK\"\n",
    "      elif code == 301:\n",
    "        description = \"moved permanently\"\n",
    "      elif code == 302:\n",
    "        description = \"moved temporarily\"\n",
    "      elif code == 400:\n",
    "        description = \"bad request\"\n",
    "      elif code == 403:\n",
    "        description = \"forbiden\"\n",
    "      elif code == 404:\n",
    "        description = \"not found\"\n",
    "      elif code == 500:\n",
    "        description = \"internal server error\"\n",
    "      elif code == 503:\n",
    "        description = \"service unavailable\"\n",
    "    else:\n",
    "        description = \"not possible\"\n",
    "    print(\"HTTP code \" + str(code) + \": Sorry, \"+ description )\n",
    "\n"
   ]
  },
  {
   "cell_type": "code",
   "execution_count": null,
   "id": "511372b7-468a-4243-8659-d168ae0e438c",
   "metadata": {},
   "outputs": [],
   "source": []
  }
 ],
 "metadata": {
  "kernelspec": {
   "display_name": "Python 3 (ipykernel)",
   "language": "python",
   "name": "python3"
  },
  "language_info": {
   "codemirror_mode": {
    "name": "ipython",
    "version": 3
   },
   "file_extension": ".py",
   "mimetype": "text/x-python",
   "name": "python",
   "nbconvert_exporter": "python",
   "pygments_lexer": "ipython3",
   "version": "3.11.4"
  }
 },
 "nbformat": 4,
 "nbformat_minor": 5
}
