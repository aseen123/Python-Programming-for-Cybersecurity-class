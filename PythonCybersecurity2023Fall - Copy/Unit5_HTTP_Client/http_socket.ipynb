{
 "cells": [
  {
   "cell_type": "code",
   "execution_count": 1,
   "id": "60869ab1",
   "metadata": {},
   "outputs": [],
   "source": [
    "import socket"
   ]
  },
  {
   "cell_type": "code",
   "execution_count": 2,
   "id": "b18c1f06",
   "metadata": {},
   "outputs": [
    {
     "name": "stdout",
     "output_type": "stream",
     "text": [
      "Please input a web address: http://www.usman.cloud/hello/helloworld.html\n",
      "Protocol: http, Host_name: www.usman.cloud, Resource: /hello/helloworld.html \n",
      "\n"
     ]
    }
   ],
   "source": [
    "web_address= input(\"Please input a web address: \")\n",
    "protocol, x = web_address.split(\"/\", 1)\n",
    "host_name, resource = x[1:].split(\"/\",1)  ##Ex: host_name= 'www.google.com'\n",
    "\n",
    "print( \"Protocol: \"+ protocol[:-1]+ \", Host_name: \"+ host_name+ \", Resource: /\"+ resource, \"\\n\")\n",
    "port_number=80"
   ]
  },
  {
   "cell_type": "code",
   "execution_count": 3,
   "id": "d415aae0",
   "metadata": {},
   "outputs": [],
   "source": [
    "myHTTPClient=socket.socket(socket.AF_INET, socket.SOCK_STREAM)"
   ]
  },
  {
   "cell_type": "markdown",
   "id": "3cd7dad5",
   "metadata": {},
   "source": [
    "#### Making DNS request and connecting to server"
   ]
  },
  {
   "cell_type": "code",
   "execution_count": 4,
   "id": "ed41a988",
   "metadata": {},
   "outputs": [],
   "source": [
    "ip_address=socket.gethostbyname(host_name)"
   ]
  },
  {
   "cell_type": "code",
   "execution_count": 5,
   "id": "1800b41b",
   "metadata": {},
   "outputs": [
    {
     "name": "stdout",
     "output_type": "stream",
     "text": [
      "52.53.232.80\n"
     ]
    }
   ],
   "source": [
    "print(ip_address)"
   ]
  },
  {
   "cell_type": "code",
   "execution_count": 6,
   "id": "ef5067d1",
   "metadata": {},
   "outputs": [],
   "source": [
    "request= 'GET /' + resource + '\\r\\n'  \n"
   ]
  },
  {
   "cell_type": "code",
   "execution_count": 7,
   "id": "838a5405",
   "metadata": {},
   "outputs": [],
   "source": [
    "myHTTPClient.connect((ip_address,port_number))"
   ]
  },
  {
   "cell_type": "code",
   "execution_count": 8,
   "id": "2da84e7d",
   "metadata": {},
   "outputs": [],
   "source": [
    "myHTTPClient.sendall(request.encode())"
   ]
  },
  {
   "cell_type": "code",
   "execution_count": 9,
   "id": "60465224",
   "metadata": {},
   "outputs": [],
   "source": [
    "response=b''\n",
    "buffer_size=1024\n",
    "\n",
    "while True:\n",
    "    cup_of_data=myHTTPClient.recv(buffer_size)\n",
    "    if not cup_of_data:\n",
    "        break\n",
    "    response=response+cup_of_data\n",
    "    "
   ]
  },
  {
   "cell_type": "code",
   "execution_count": 10,
   "id": "1baae229",
   "metadata": {},
   "outputs": [
    {
     "name": "stdout",
     "output_type": "stream",
     "text": [
      "<html>\n",
      "\t<body>\n",
      "\t\t<h1>HELLO WORLD!!!</h1>\n",
      "\t</body>\n",
      "\n",
      "</html>\n",
      "\n"
     ]
    }
   ],
   "source": [
    "print(response.decode('utf-8'))"
   ]
  }
 ],
 "metadata": {
  "kernelspec": {
   "display_name": "Python 3 (ipykernel)",
   "language": "python",
   "name": "python3"
  },
  "language_info": {
   "codemirror_mode": {
    "name": "ipython",
    "version": 3
   },
   "file_extension": ".py",
   "mimetype": "text/x-python",
   "name": "python",
   "nbconvert_exporter": "python",
   "pygments_lexer": "ipython3",
   "version": "3.11.4"
  }
 },
 "nbformat": 4,
 "nbformat_minor": 5
}
