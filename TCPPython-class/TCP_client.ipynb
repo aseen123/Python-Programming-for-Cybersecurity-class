{
 "cells": [
  {
   "cell_type": "code",
   "execution_count": 1,
   "id": "60869ab1",
   "metadata": {},
   "outputs": [],
   "source": [
    "import socket"
   ]
  },
  {
   "cell_type": "code",
   "execution_count": 2,
   "id": "b18c1f06",
   "metadata": {},
   "outputs": [],
   "source": [
    "ip_address = '127.0.0.1'\n",
    "port_number=3000"
   ]
  },
  {
   "cell_type": "code",
   "execution_count": 3,
   "id": "d415aae0",
   "metadata": {},
   "outputs": [],
   "source": [
    "client=socket.socket(socket.AF_INET, socket.SOCK_STREAM)\n",
    "client.connect((ip_address,port_number))"
   ]
  },
  {
   "cell_type": "markdown",
   "id": "3cd7dad5",
   "metadata": {},
   "source": [
    "#### Making DNS request and connecting to server"
   ]
  },
  {
   "cell_type": "code",
   "execution_count": null,
   "id": "2da84e7d",
   "metadata": {},
   "outputs": [],
   "source": [
    "while True:\n",
    "    request= input(\"Enter your message: \")  \n",
    "    request+= \"\\r\\n\"\n",
    "\n",
    "    if not request:           \n",
    "        break\n",
    "    if request[:4] =='quit':\n",
    "        break\n",
    "    client.sendall(request.encode('utf-8'))\n",
    "    request = (client.recv(1024)).decode()\n",
    "\n",
    "client.close()"
   ]
  },
  {
   "cell_type": "code",
   "execution_count": null,
   "id": "1baae229",
   "metadata": {},
   "outputs": [],
   "source": [
    "print(request)"
   ]
  }
 ],
 "metadata": {
  "kernelspec": {
   "display_name": "Python 3 (ipykernel)",
   "language": "python",
   "name": "python3"
  },
  "language_info": {
   "codemirror_mode": {
    "name": "ipython",
    "version": 3
   },
   "file_extension": ".py",
   "mimetype": "text/x-python",
   "name": "python",
   "nbconvert_exporter": "python",
   "pygments_lexer": "ipython3",
   "version": "3.11.4"
  }
 },
 "nbformat": 4,
 "nbformat_minor": 5
}
