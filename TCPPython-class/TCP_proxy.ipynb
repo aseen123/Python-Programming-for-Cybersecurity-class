{
 "cells": [
  {
   "cell_type": "code",
   "execution_count": 1,
   "id": "f8f47e03",
   "metadata": {},
   "outputs": [],
   "source": [
    "import socket"
   ]
  },
  {
   "cell_type": "code",
   "execution_count": 2,
   "id": "e6593f58",
   "metadata": {},
   "outputs": [],
   "source": [
    "proxy_address= (\"127.0.0.1\",3000)\n",
    "forwarding_address = (\"127.0.0.1\", 4000)"
   ]
  },
  {
   "cell_type": "code",
   "execution_count": 3,
   "id": "0866ba6c",
   "metadata": {},
   "outputs": [],
   "source": [
    "## proxy= socket.socket(socket.AF_INET, socket.SOCK_DGRAM)  ## UDP\n",
    "proxy= socket.socket(socket.AF_INET, socket.SOCK_STREAM)    ## TCP"
   ]
  },
  {
   "cell_type": "code",
   "execution_count": 4,
   "id": "104408a4",
   "metadata": {},
   "outputs": [
    {
     "ename": "OSError",
     "evalue": "[WinError 10048] Only one usage of each socket address (protocol/network address/port) is normally permitted",
     "output_type": "error",
     "traceback": [
      "\u001b[1;31m---------------------------------------------------------------------------\u001b[0m",
      "\u001b[1;31mOSError\u001b[0m                                   Traceback (most recent call last)",
      "Cell \u001b[1;32mIn[4], line 1\u001b[0m\n\u001b[1;32m----> 1\u001b[0m proxy\u001b[38;5;241m.\u001b[39mbind(proxy_address)\n",
      "\u001b[1;31mOSError\u001b[0m: [WinError 10048] Only one usage of each socket address (protocol/network address/port) is normally permitted"
     ]
    }
   ],
   "source": [
    "proxy.bind(proxy_address)"
   ]
  },
  {
   "cell_type": "code",
   "execution_count": null,
   "id": "d8e95302",
   "metadata": {},
   "outputs": [],
   "source": [
    "proxy.listen(1) # only one client accepted\n",
    "print(\"Listening...\")"
   ]
  },
  {
   "cell_type": "code",
   "execution_count": null,
   "id": "38f7c18a",
   "metadata": {},
   "outputs": [],
   "source": [
    "while True:\n",
    "    print(\"Waiting for client connection... \")\n",
    "    client, client_address = proxy.accept()  # blocks til receives a connection from client\n",
    "    \n",
    "    # establishes connection with server\n",
    "    forward_server = socket.create_connection( forwarding_address)\n",
    "    \n",
    "    try:\n",
    "        print(\"Connection established...\")\n",
    "        while True:\n",
    "\n",
    "            ## start sending data between client and forward_server\n",
    "            \n",
    "            client_data = client.recv(1024)\n",
    "            if not client_data:\n",
    "                break\n",
    "            print(\"CLIENT_REQUEST: \"+client_data.decode(\"utf-8\") )\n",
    "            forward_server.sendall(client_data)\n",
    "           \n",
    "            response_data = forward_server.recv(1024)\n",
    "            if not response_data:\n",
    "                break\n",
    "            print(\"SERVER_RESPONSE: \"+response_data.decode(\"utf-8\") )\n",
    "            client.sendall( response_data)\n",
    "    finally:\n",
    "        client.close()\n",
    "        forward_server.close()\n",
    "        break\n"
   ]
  },
  {
   "cell_type": "code",
   "execution_count": null,
   "id": "96c86f60",
   "metadata": {},
   "outputs": [],
   "source": []
  }
 ],
 "metadata": {
  "kernelspec": {
   "display_name": "Python 3 (ipykernel)",
   "language": "python",
   "name": "python3"
  },
  "language_info": {
   "codemirror_mode": {
    "name": "ipython",
    "version": 3
   },
   "file_extension": ".py",
   "mimetype": "text/x-python",
   "name": "python",
   "nbconvert_exporter": "python",
   "pygments_lexer": "ipython3",
   "version": "3.11.4"
  }
 },
 "nbformat": 4,
 "nbformat_minor": 5
}
