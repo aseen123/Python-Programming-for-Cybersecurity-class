{
 "cells": [
  {
   "cell_type": "code",
   "execution_count": 1,
   "id": "f8f47e03",
   "metadata": {},
   "outputs": [],
   "source": [
    "import socket"
   ]
  },
  {
   "cell_type": "code",
   "execution_count": 2,
   "id": "e6593f58",
   "metadata": {},
   "outputs": [],
   "source": [
    "proxy_address= (\"127.0.0.1\",3000)\n",
    "forwarding_address = (\"127.0.0.1\", 4000)"
   ]
  },
  {
   "cell_type": "code",
   "execution_count": 3,
   "id": "0866ba6c",
   "metadata": {},
   "outputs": [],
   "source": [
    "proxy= socket.socket(socket.AF_INET, socket.SOCK_STREAM)    ## TCP"
   ]
  },
  {
   "cell_type": "code",
   "execution_count": 4,
   "id": "104408a4",
   "metadata": {},
   "outputs": [],
   "source": [
    "proxy.bind(proxy_address)"
   ]
  },
  {
   "cell_type": "code",
   "execution_count": 5,
   "id": "4f7e536c",
   "metadata": {},
   "outputs": [
    {
     "name": "stdout",
     "output_type": "stream",
     "text": [
      "Listening...\n"
     ]
    }
   ],
   "source": [
    "proxy.listen(1) # only one client accepted\n",
    "print(\"Listening...\")"
   ]
  },
  {
   "cell_type": "code",
   "execution_count": 6,
   "id": "38f7c18a",
   "metadata": {},
   "outputs": [
    {
     "name": "stdout",
     "output_type": "stream",
     "text": [
      "waiting for client connection... \n",
      "Connection established...\n",
      "CLIENT_REQUEST: Andre\n",
      "\n",
      "SERVER_RESPONSE: You sent >>Andre\n",
      "\n",
      "CLIENT_REQUEST: how is life?\n",
      "\n",
      "SERVER_RESPONSE: You sent >>how is life?\n",
      "\n",
      "CLIENT_REQUEST: bye now\n",
      "\n",
      "SERVER_RESPONSE: You sent >>bye now\n",
      "\n"
     ]
    }
   ],
   "source": [
    "while True:\n",
    "    print(\"waiting for client connection... \")\n",
    "    client, client_address = proxy.accept()  # blocks til receives a connection from client\n",
    "    \n",
    "    try:\n",
    "        print(\"Connection established...\")\n",
    "        while True:\n",
    "\n",
    "            ## start sending data between client and proxy    - TCP         \n",
    "            client_data = client.recv(1024)\n",
    "            if not client_data:\n",
    "                break\n",
    "            print(\"CLIENT_REQUEST: \"+client_data.decode(\"utf-8\") )\n",
    "            \n",
    "            ## open socket between proxy and server           \n",
    "            proxy_serverside= socket.socket(socket.AF_INET, socket.SOCK_DGRAM)  ## UDP\n",
    "            proxy_serverside.sendto(client_data,forwarding_address)\n",
    "            \n",
    "            response_data, server_address= proxy_serverside.recvfrom(1024)\n",
    "            print(\"SERVER_RESPONSE: \"+response_data.decode(\"utf-8\") )\n",
    "            \n",
    "            ## send data to the client - TCP\n",
    "            client.sendall( response_data)\n",
    "    finally:\n",
    "        break\n",
    "client.close()\n"
   ]
  },
  {
   "cell_type": "code",
   "execution_count": null,
   "id": "96c86f60",
   "metadata": {},
   "outputs": [],
   "source": []
  }
 ],
 "metadata": {
  "kernelspec": {
   "display_name": "Python 3 (ipykernel)",
   "language": "python",
   "name": "python3"
  },
  "language_info": {
   "codemirror_mode": {
    "name": "ipython",
    "version": 3
   },
   "file_extension": ".py",
   "mimetype": "text/x-python",
   "name": "python",
   "nbconvert_exporter": "python",
   "pygments_lexer": "ipython3",
   "version": "3.11.4"
  }
 },
 "nbformat": 4,
 "nbformat_minor": 5
}
